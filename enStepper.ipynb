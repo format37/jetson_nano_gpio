{
 "cells": [
  {
   "cell_type": "code",
   "execution_count": 1,
   "metadata": {},
   "outputs": [],
   "source": [
    "import sys\n",
    "\n",
    "sys.path.append('/opt/nvidia/jetson-gpio/lib/python')\n",
    "sys.path.append('/opt/nvidia/jetson-gpio/lib/python/Jetson/GPIO')"
   ]
  },
  {
   "cell_type": "code",
   "execution_count": 2,
   "metadata": {},
   "outputs": [],
   "source": [
    "import Jetson.GPIO as GPIO\n",
    "import time"
   ]
  },
  {
   "cell_type": "code",
   "execution_count": 33,
   "metadata": {},
   "outputs": [],
   "source": [
    "def stepperTurnOff():\n",
    "    GPIO.output(stepper_pin_a, GPIO.LOW)\n",
    "    GPIO.output(stepper_pin_b, GPIO.LOW)\n",
    "    GPIO.output(stepper_pin_c, GPIO.LOW)\n",
    "    GPIO.output(stepper_pin_d, GPIO.LOW)"
   ]
  },
  {
   "cell_type": "code",
   "execution_count": 21,
   "metadata": {},
   "outputs": [],
   "source": [
    "stepper_pin_a = 11\n",
    "stepper_pin_b = 12\n",
    "stepper_pin_c = 15\n",
    "stepper_pin_d = 16\n",
    "\n",
    "GPIO.setmode(GPIO.BOARD)\n",
    "GPIO.setup(stepper_pin_a, GPIO.OUT, initial=GPIO.HIGH)\n",
    "GPIO.setup(stepper_pin_b, GPIO.OUT, initial=GPIO.HIGH)\n",
    "GPIO.setup(stepper_pin_c, GPIO.OUT, initial=GPIO.HIGH)\n",
    "GPIO.setup(stepper_pin_d, GPIO.OUT, initial=GPIO.HIGH)\n",
    "\n",
    "stepperTurnOff()"
   ]
  },
  {
   "cell_type": "code",
   "execution_count": null,
   "metadata": {},
   "outputs": [],
   "source": []
  },
  {
   "cell_type": "code",
   "execution_count": 22,
   "metadata": {},
   "outputs": [],
   "source": [
    "stepperCurrentLevel=0"
   ]
  },
  {
   "cell_type": "code",
   "execution_count": 23,
   "metadata": {},
   "outputs": [],
   "source": [
    "hi=GPIO.HIGH\n",
    "lo=GPIO.LOW\n",
    "stepperLevels=[\n",
    "  [hi,lo,lo,lo],\n",
    "  [hi,lo,hi,lo],\n",
    "  [lo,lo,hi,lo],\n",
    "  [lo,hi,hi,lo],\n",
    "  [lo,hi,lo,lo],\n",
    "  [lo,hi,lo,hi],\n",
    "  [lo,lo,lo,hi],\n",
    "  [hi,lo,lo,hi]\n",
    "];"
   ]
  },
  {
   "cell_type": "code",
   "execution_count": 24,
   "metadata": {},
   "outputs": [],
   "source": [
    "def stepperSet():\n",
    "    GPIO.output(stepper_pin_a, stepperLevels[stepperCurrentLevel][0])\n",
    "    GPIO.output(stepper_pin_b, stepperLevels[stepperCurrentLevel][1])\n",
    "    GPIO.output(stepper_pin_c, stepperLevels[stepperCurrentLevel][2])\n",
    "    GPIO.output(stepper_pin_d, stepperLevels[stepperCurrentLevel][3])"
   ]
  },
  {
   "cell_type": "code",
   "execution_count": 54,
   "metadata": {},
   "outputs": [
    {
     "name": "stdout",
     "output_type": "stream",
     "text": [
      "end\n"
     ]
    }
   ],
   "source": [
    "for i in range(450):\n",
    "    stepperSet()\n",
    "    stepperCurrentLevel+=1\n",
    "    if stepperCurrentLevel>7:\n",
    "        stepperCurrentLevel=0\n",
    "    time.sleep(0.01)\n",
    "stepperTurnOff()\n",
    "print(\"end\")"
   ]
  },
  {
   "cell_type": "code",
   "execution_count": 55,
   "metadata": {},
   "outputs": [],
   "source": [
    "GPIO.cleanup()"
   ]
  }
 ],
 "metadata": {
  "kernelspec": {
   "display_name": "Python 3",
   "language": "python",
   "name": "python3"
  },
  "language_info": {
   "codemirror_mode": {
    "name": "ipython",
    "version": 3
   },
   "file_extension": ".py",
   "mimetype": "text/x-python",
   "name": "python",
   "nbconvert_exporter": "python",
   "pygments_lexer": "ipython3",
   "version": "3.6.7"
  }
 },
 "nbformat": 4,
 "nbformat_minor": 2
}
