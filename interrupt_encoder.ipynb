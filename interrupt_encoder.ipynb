{
 "cells": [
  {
   "cell_type": "code",
   "execution_count": 1,
   "metadata": {},
   "outputs": [],
   "source": [
    "import sys\n",
    "import time\n",
    "\n",
    "sys.path.append('/opt/nvidia/jetson-gpio/lib/python')\n",
    "sys.path.append('/opt/nvidia/jetson-gpio/lib/python/Jetson/GPIO')\n",
    "\n",
    "import Jetson.GPIO as GPIO"
   ]
  },
  {
   "cell_type": "code",
   "execution_count": 5,
   "metadata": {},
   "outputs": [],
   "source": [
    "but_pin0 = 18\n",
    "event_counter=0"
   ]
  },
  {
   "cell_type": "code",
   "execution_count": 6,
   "metadata": {},
   "outputs": [],
   "source": [
    "def btn_event(channel):\n",
    "    global event_counter\n",
    "    event_counter=event_counter+1"
   ]
  },
  {
   "cell_type": "code",
   "execution_count": 7,
   "metadata": {},
   "outputs": [],
   "source": [
    "# Pin Setup:\n",
    "GPIO.setmode(GPIO.BOARD)  # BOARD pin-numbering scheme\n",
    "GPIO.setup(but_pin0, GPIO.IN)  # button pin set as input\n",
    "GPIO.add_event_detect(but_pin0, GPIO.BOTH, callback=btn_event, bouncetime=10)"
   ]
  },
  {
   "cell_type": "code",
   "execution_count": 15,
   "metadata": {},
   "outputs": [
    {
     "name": "stdout",
     "output_type": "stream",
     "text": [
      "counter  53\n",
      "counter  53\n",
      "counter  53\n",
      "counter  53\n",
      "counter  54\n",
      "counter  55\n",
      "counter  55\n",
      "counter  55\n",
      "counter  55\n",
      "counter  55\n",
      "counter  55\n",
      "counter  55\n",
      "counter  56\n",
      "counter  56\n",
      "counter  56\n",
      "counter  57\n",
      "counter  57\n",
      "counter  57\n",
      "counter  57\n",
      "counter  57\n"
     ]
    }
   ],
   "source": [
    "for i in range(20):\n",
    "    print(\"counter \",event_counter)\n",
    "    time.sleep(1)"
   ]
  },
  {
   "cell_type": "code",
   "execution_count": null,
   "metadata": {},
   "outputs": [],
   "source": [
    "GPIO.cleanup()  # cleanup all GPIOs"
   ]
  }
 ],
 "metadata": {
  "kernelspec": {
   "display_name": "Python 3",
   "language": "python",
   "name": "python3"
  },
  "language_info": {
   "codemirror_mode": {
    "name": "ipython",
    "version": 3
   },
   "file_extension": ".py",
   "mimetype": "text/x-python",
   "name": "python",
   "nbconvert_exporter": "python",
   "pygments_lexer": "ipython3",
   "version": "3.6.7"
  }
 },
 "nbformat": 4,
 "nbformat_minor": 2
}
