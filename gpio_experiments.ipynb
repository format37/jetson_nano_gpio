{
 "cells": [
  {
   "cell_type": "code",
   "execution_count": null,
   "metadata": {},
   "outputs": [],
   "source": [
    "import tensorflow as tf"
   ]
  },
  {
   "cell_type": "code",
   "execution_count": null,
   "metadata": {},
   "outputs": [],
   "source": [
    "tf.reset_default_graph()\n",
    "x=tf.Variable(3,name=\"x\")\n",
    "y=tf.Variable(4,name=\"y\")\n",
    "f=x*x*y+y+2"
   ]
  },
  {
   "cell_type": "code",
   "execution_count": null,
   "metadata": {},
   "outputs": [],
   "source": [
    "init=tf.global_variables_initializer()"
   ]
  },
  {
   "cell_type": "code",
   "execution_count": null,
   "metadata": {},
   "outputs": [],
   "source": [
    "with tf.Session() as sess:\n",
    "    init.run()\n",
    "    result=f.eval()\n",
    "print(result)"
   ]
  },
  {
   "cell_type": "code",
   "execution_count": 1,
   "metadata": {},
   "outputs": [],
   "source": [
    "import sys\n",
    "\n",
    "sys.path.append('/opt/nvidia/jetson-gpio/lib/python')\n",
    "sys.path.append('/opt/nvidia/jetson-gpio/lib/python/Jetson/GPIO')"
   ]
  },
  {
   "cell_type": "code",
   "execution_count": 2,
   "metadata": {},
   "outputs": [],
   "source": [
    "import Jetson.GPIO as GPIO\n",
    "import time"
   ]
  },
  {
   "cell_type": "code",
   "execution_count": 3,
   "metadata": {},
   "outputs": [
    {
     "name": "stdout",
     "output_type": "stream",
     "text": [
      "None\n"
     ]
    }
   ],
   "source": [
    "mode = GPIO.getmode()\n",
    "print(mode) "
   ]
  },
  {
   "cell_type": "code",
   "execution_count": 5,
   "metadata": {},
   "outputs": [
    {
     "name": "stdout",
     "output_type": "stream",
     "text": [
      "1: Outputting 1 to pin 18\n",
      "2: Outputting 0 to pin 18\n",
      "3: Outputting 1 to pin 18\n",
      "4: Outputting 0 to pin 18\n",
      "5: Outputting 1 to pin 18\n",
      "6: Outputting 0 to pin 18\n",
      "7: Outputting 1 to pin 18\n",
      "8: Outputting 0 to pin 18\n",
      "9: Outputting 1 to pin 18\n",
      "10: Outputting 0 to pin 18\n",
      "11: Outputting 1 to pin 18\n",
      "12: Outputting 0 to pin 18\n",
      "13: Outputting 1 to pin 18\n",
      "14: Outputting 0 to pin 18\n",
      "15: Outputting 1 to pin 18\n",
      "16: Outputting 0 to pin 18\n",
      "17: Outputting 1 to pin 18\n",
      "18: Outputting 0 to pin 18\n",
      "19: Outputting 1 to pin 18\n",
      "20: Outputting 0 to pin 18\n",
      "21: Outputting 1 to pin 18\n",
      "22: Outputting 0 to pin 18\n",
      "23: Outputting 1 to pin 18\n",
      "24: Outputting 0 to pin 18\n",
      "25: Outputting 1 to pin 18\n",
      "26: Outputting 0 to pin 18\n",
      "27: Outputting 1 to pin 18\n",
      "28: Outputting 0 to pin 18\n",
      "29: Outputting 1 to pin 18\n",
      "30: Outputting 0 to pin 18\n",
      "31: Outputting 1 to pin 18\n",
      "32: Outputting 0 to pin 18\n",
      "33: Outputting 1 to pin 18\n",
      "34: Outputting 0 to pin 18\n",
      "35: Outputting 1 to pin 18\n",
      "36: Outputting 0 to pin 18\n",
      "37: Outputting 1 to pin 18\n",
      "38: Outputting 0 to pin 18\n",
      "39: Outputting 1 to pin 18\n",
      "40: Outputting 0 to pin 18\n",
      "41: Outputting 1 to pin 18\n",
      "42: Outputting 0 to pin 18\n",
      "43: Outputting 1 to pin 18\n",
      "44: Outputting 0 to pin 18\n",
      "45: Outputting 1 to pin 18\n",
      "46: Outputting 0 to pin 18\n",
      "47: Outputting 1 to pin 18\n",
      "48: Outputting 0 to pin 18\n",
      "49: Outputting 1 to pin 18\n",
      "50: Outputting 0 to pin 18\n",
      "51: Outputting 1 to pin 18\n",
      "52: Outputting 0 to pin 18\n",
      "53: Outputting 1 to pin 18\n",
      "54: Outputting 0 to pin 18\n",
      "55: Outputting 1 to pin 18\n",
      "56: Outputting 0 to pin 18\n",
      "57: Outputting 1 to pin 18\n",
      "58: Outputting 0 to pin 18\n",
      "59: Outputting 1 to pin 18\n",
      "60: Outputting 0 to pin 18\n",
      "61: Outputting 1 to pin 18\n",
      "62: Outputting 0 to pin 18\n",
      "63: Outputting 1 to pin 18\n",
      "64: Outputting 0 to pin 18\n",
      "65: Outputting 1 to pin 18\n",
      "66: Outputting 0 to pin 18\n",
      "67: Outputting 1 to pin 18\n",
      "68: Outputting 0 to pin 18\n",
      "69: Outputting 1 to pin 18\n",
      "70: Outputting 0 to pin 18\n",
      "71: Outputting 1 to pin 18\n",
      "72: Outputting 0 to pin 18\n",
      "73: Outputting 1 to pin 18\n",
      "74: Outputting 0 to pin 18\n",
      "75: Outputting 1 to pin 18\n",
      "76: Outputting 0 to pin 18\n",
      "77: Outputting 1 to pin 18\n",
      "78: Outputting 0 to pin 18\n",
      "79: Outputting 1 to pin 18\n",
      "80: Outputting 0 to pin 18\n",
      "81: Outputting 1 to pin 18\n",
      "82: Outputting 0 to pin 18\n",
      "83: Outputting 1 to pin 18\n",
      "84: Outputting 0 to pin 18\n",
      "85: Outputting 1 to pin 18\n",
      "86: Outputting 0 to pin 18\n",
      "87: Outputting 1 to pin 18\n",
      "88: Outputting 0 to pin 18\n",
      "89: Outputting 1 to pin 18\n",
      "90: Outputting 0 to pin 18\n",
      "91: Outputting 1 to pin 18\n",
      "92: Outputting 0 to pin 18\n",
      "93: Outputting 1 to pin 18\n",
      "94: Outputting 0 to pin 18\n",
      "95: Outputting 1 to pin 18\n",
      "96: Outputting 0 to pin 18\n",
      "97: Outputting 1 to pin 18\n",
      "98: Outputting 0 to pin 18\n",
      "99: Outputting 1 to pin 18\n"
     ]
    }
   ],
   "source": [
    "output_pin = 18  # BOARD pin 12, BCM pin 18\n",
    "\n",
    "# Pin Setup:\n",
    "# Board pin-numbering scheme\n",
    "GPIO.setmode(GPIO.BCM)\n",
    "# set pin as an output pin with optional initial state of HIGH\n",
    "GPIO.setup(output_pin, GPIO.OUT, initial=GPIO.HIGH)\n",
    "\n",
    "curr_value = GPIO.HIGH\n",
    "counter=1\n",
    "try:\n",
    "    while counter<100:\n",
    "        time.sleep(1)\n",
    "        # Toggle the output every second\n",
    "        print(str(counter)+\": Outputting {} to pin {}\".format(curr_value, output_pin))\n",
    "        GPIO.output(output_pin, curr_value)\n",
    "        curr_value ^= GPIO.HIGH\n",
    "        counter+=1\n",
    "finally:\n",
    "    GPIO.cleanup()"
   ]
  },
  {
   "cell_type": "code",
   "execution_count": null,
   "metadata": {},
   "outputs": [],
   "source": []
  }
 ],
 "metadata": {
  "kernelspec": {
   "display_name": "Python 3",
   "language": "python",
   "name": "python3"
  },
  "language_info": {
   "codemirror_mode": {
    "name": "ipython",
    "version": 3
   },
   "file_extension": ".py",
   "mimetype": "text/x-python",
   "name": "python",
   "nbconvert_exporter": "python",
   "pygments_lexer": "ipython3",
   "version": "3.6.7"
  }
 },
 "nbformat": 4,
 "nbformat_minor": 2
}
